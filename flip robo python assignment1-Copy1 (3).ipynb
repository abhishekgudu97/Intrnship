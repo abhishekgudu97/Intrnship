{
 "cells": [
  {
   "cell_type": "code",
   "execution_count": 1,
   "id": "2ebb07ae",
   "metadata": {},
   "outputs": [
    {
     "name": "stdout",
     "output_type": "stream",
     "text": [
      "Enter any number : 4\n",
      "The factorial of 4 is 24\n"
     ]
    }
   ],
   "source": [
    "#write a python program to find the factorial of a number\n",
    "num = int(input(\"Enter any number : \"))\n",
    "factorial = 1\n",
    "if num < 0:\n",
    "   print(\"Oops!!!, factorial does not exist for negative numbers...please try any positive number\")\n",
    "elif num == 0:\n",
    "   print(\"The factorial of 0 is 1\")\n",
    "else:\n",
    "   for i in range(1,num + 1):\n",
    "       factorial = factorial*i\n",
    "   print(\"The factorial of\",num,\"is\",factorial)"
   ]
  },
  {
   "cell_type": "code",
   "execution_count": 5,
   "id": "816f5c02",
   "metadata": {},
   "outputs": [
    {
     "name": "stdout",
     "output_type": "stream",
     "text": [
      "Enter any number : 43\n",
      "43 is a prime number\n"
     ]
    }
   ],
   "source": [
    "#write a python program to find wheather the number is prime or composite\n",
    "num = int(input(\"Enter any number : \"))\n",
    "if num > 1:\n",
    "   for i in range(2,num):\n",
    "       if (num % i) == 0:\n",
    "           print(num,\"is  a composite number\")\n",
    "           print(i,\"times\",num//i,\"is\",num)\n",
    "           break\n",
    "   else:\n",
    "       print(num,\"is a prime number\")\n",
    "       \n",
    "\n",
    "else:\n",
    "   print(num,\"is not a composite number\")"
   ]
  },
  {
   "cell_type": "code",
   "execution_count": 3,
   "id": "a1555c96",
   "metadata": {},
   "outputs": [
    {
     "name": "stdout",
     "output_type": "stream",
     "text": [
      "Enter a string : radar\n",
      "Wow!!! This string is a palindrome...You have given the correct one\n"
     ]
    }
   ],
   "source": [
    "#write a python program to check wheather the given string is palindrome or not\n",
    "my_str = input(\"Enter a string : \")\n",
    "\n",
    "my_str = my_str.casefold()\n",
    "\n",
    "rev_str = reversed(my_str)\n",
    "\n",
    "if list(my_str) == list(rev_str):\n",
    "   print(\"Wow!!! This string is a palindrome...You have given the correct one\")\n",
    "else:\n",
    "   print(\"Oops!!!your string is not a palindrome...Try another\")\n"
   ]
  },
  {
   "cell_type": "code",
   "execution_count": 23,
   "id": "3c035469",
   "metadata": {},
   "outputs": [
    {
     "name": "stdout",
     "output_type": "stream",
     "text": [
      "12.041594578792296\n"
     ]
    }
   ],
   "source": [
    "#Write a Python program to get the third side of right-angled triangle from two given sides\n",
    "def findHypotenuse(side1, side2):\n",
    "\n",
    "    h = (((side1 * side1) + (side2 * side2))**(1/2));\n",
    "    return h;\n",
    "\n",
    "side1 = 8;\n",
    "side2 = 9;\n",
    "\n",
    "\n",
    "print(findHypotenuse(side1, side2));\n",
    "\n",
    "\n"
   ]
  },
  {
   "cell_type": "code",
   "execution_count": 28,
   "id": "cd62ad6a",
   "metadata": {},
   "outputs": [
    {
     "name": "stdout",
     "output_type": "stream",
     "text": [
      "Enter a string : dfghjkjhgfdfghjklkjhgh\n",
      "Count of all characters in test_str is : \n",
      "{'d': 2, 'f': 3, 'g': 4, 'h': 5, 'j': 4, 'k': 3, 'l': 1}\n"
     ]
    }
   ],
   "source": [
    "#Write a python program to print the frequency of each of the characters present in a given string.\n",
    "test_str = input(\"Enter a string : \")\n",
    "\n",
    "res = {}\n",
    "\n",
    "for keys in test_str:\n",
    "    res[keys] = res.get(keys, 0) + 1\n",
    "\n",
    "\n",
    "print (\"Count of all characters in test_str is : \\n\"\n",
    "+ str(res))\n",
    "\n"
   ]
  },
  {
   "cell_type": "code",
   "execution_count": null,
   "id": "e74746aa",
   "metadata": {},
   "outputs": [],
   "source": [
    "\n"
   ]
  },
  {
   "cell_type": "code",
   "execution_count": null,
   "id": "900cb787",
   "metadata": {},
   "outputs": [],
   "source": []
  },
  {
   "cell_type": "code",
   "execution_count": null,
   "id": "d571879c",
   "metadata": {},
   "outputs": [],
   "source": []
  },
  {
   "cell_type": "code",
   "execution_count": null,
   "id": "3b4c374e",
   "metadata": {},
   "outputs": [],
   "source": []
  },
  {
   "cell_type": "code",
   "execution_count": null,
   "id": "a73da3f4",
   "metadata": {},
   "outputs": [],
   "source": []
  }
 ],
 "metadata": {
  "kernelspec": {
   "display_name": "Python 3 (ipykernel)",
   "language": "python",
   "name": "python3"
  },
  "language_info": {
   "codemirror_mode": {
    "name": "ipython",
    "version": 3
   },
   "file_extension": ".py",
   "mimetype": "text/x-python",
   "name": "python",
   "nbconvert_exporter": "python",
   "pygments_lexer": "ipython3",
   "version": "3.9.7"
  }
 },
 "nbformat": 4,
 "nbformat_minor": 5
}
